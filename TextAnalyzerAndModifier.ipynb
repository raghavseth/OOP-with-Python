{
 "cells": [
  {
   "cell_type": "markdown",
   "metadata": {},
   "source": [
    "
   ]
  },
  {
   "cell_type": "code",
   "execution_count": 1,
   "metadata": {},
   "outputs": [],
   "source": [
    "NAME = \"Seth Raghav\""
   ]
  },
  {
   "cell_type": "markdown",
   "metadata": {},
   "source": [
    "---"
   ]
  },
  {
   "cell_type": "markdown",
   "metadata": {
    "deletable": false,
    "editable": false,
    "nbgrader": {
     "checksum": "3dd62fcf0b54f8201f609f95e30b1412",
     "grade": false,
     "grade_id": "Instructions",
     "locked": true,
     "schema_version": 1,
     "solution": false
    }
   },
   "source": [
    "# Project 2: Text analyzer and modifier \n",
    "\n",
    "\n",
    "- Write a function, ``test_replace()``, to replace all ``%`` with ``percent``, and all ``#`` with ``number``. (1 point)\n",
    "- Write a function, ``text_cleanup()``, to remove all the non-alphabetical, non-integral and non-punctuation characters from the text. (2 points)\n",
    "    - Valid punctuations:  ``. , : ; \" ? ! ( ) [ ]``\n",
    "- Write a function, ``top_frequency()``, to return the top k frequent words in a text. (4 points)\n",
    "- Write a function, ``punc_count()``, to return number of valid punctuations in a text. (2 points)\n",
    "- Write a function, ``sentence_count()``, to return number of complete sentences in a text. (3 points)\n",
    "- Write a function, ``longest_length()``, to return the length of the longest sentence in the input text. (3 points) \n",
    "- Write a function, ``edit_distance_matrix()``, to return a matrix that shows the ``edit_distance`` of any two sentences in the input text. (5 points) \n",
    "\n",
    "- Write a python code to read a text and call above functions to better understand the input text. (Total points 20)\n",
    "\n",
    "**Note:** Please don't change the name of the functions. "
   ]
  },
  {
   "cell_type": "code",
   "execution_count": 2,
   "metadata": {
    "deletable": false,
    "nbgrader": {
     "checksum": "58fa3f8ccc9a2f39c14e01c0524ec7d5",
     "grade": false,
     "grade_id": "Function1",
     "locked": false,
     "schema_version": 1,
     "solution": true
    }
   },
   "outputs": [],
   "source": [
    "def text_replace(text):\n",
    "    # YOUR CODE HERE\n",
    "    text = text.replace('%', 'percent')\n",
    "    text = text.replace('#', 'number')\n",
    "    return text"
   ]
  },
  {
   "cell_type": "code",
   "execution_count": null,
   "metadata": {
    "deletable": false,
    "editable": false,
    "nbgrader": {
     "checksum": "de534c6b52447e2e299c40327f249595",
     "grade": true,
     "grade_id": "Test1",
     "locked": true,
     "points": 1,
     "schema_version": 1,
     "solution": false
    }
   },
   "outputs": [],
   "source": []
  },
  {
   "cell_type": "code",
   "execution_count": 3,
   "metadata": {
    "deletable": false,
    "nbgrader": {
     "checksum": "65d8c8399abfa970f91be8f5967c61e5",
     "grade": false,
     "grade_id": "Function2",
     "locked": false,
     "schema_version": 1,
     "solution": true
    }
   },
   "outputs": [],
   "source": [
    "def text_cleanup(text):\n",
    "    # YOUR CODE HERE\n",
    "    out = \"\"\n",
    "    valid_punctuations = ['.',',',':',';','\"','?','!','(',')','[',']']\n",
    "    for c in text:\n",
    "        if c.isalnum() or c in valid_punctuations:\n",
    "            out = out+c\n",
    "    return(out)"
   ]
  },
  {
   "cell_type": "code",
   "execution_count": null,
   "metadata": {
    "deletable": false,
    "editable": false,
    "nbgrader": {
     "checksum": "34a2e102e7b3bb0d06b7ee453e85e9b2",
     "grade": true,
     "grade_id": "Test2",
     "locked": true,
     "points": 2,
     "schema_version": 1,
     "solution": false
    }
   },
   "outputs": [],
   "source": []
  },
  {
   "cell_type": "code",
   "execution_count": 4,
   "metadata": {
    "deletable": false,
    "nbgrader": {
     "checksum": "2cac7e4332871b2f764c6532c7496cb8",
     "grade": false,
     "grade_id": "Function3",
     "locked": false,
     "schema_version": 1,
     "solution": true
    }
   },
   "outputs": [],
   "source": [
    "def top_frequency(text,k):\n",
    "    # YOUR CODE HERE\n",
    "    split_d = text.split()\n",
    "    d = {}\n",
    "    for i in split_d:\n",
    "        d[i]=split_d.count(i)\n",
    "    lst = [(d[w],w) for w in d]\n",
    "    lst.sort()\n",
    "    lst.reverse()\n",
    "    i = 1\n",
    "    l = []\n",
    "    for count, word in lst[:k]:\n",
    "        print('%s. %4s %s' %(i,count,word))\n",
    "        i+= 1\n",
    "        l.append(word)\n",
    "    return l"
   ]
  },
  {
   "cell_type": "code",
   "execution_count": null,
   "metadata": {
    "deletable": false,
    "editable": false,
    "nbgrader": {
     "checksum": "ed2dd329ff2c6bb60ccdd4056d5c598d",
     "grade": true,
     "grade_id": "Test3",
     "locked": true,
     "points": 4,
     "schema_version": 1,
     "solution": false
    }
   },
   "outputs": [],
   "source": []
  },
  {
   "cell_type": "code",
   "execution_count": 5,
   "metadata": {
    "deletable": false,
    "nbgrader": {
     "checksum": "86000f95fc005adaa452b0e451ccd61d",
     "grade": false,
     "grade_id": "Function4",
     "locked": false,
     "schema_version": 1,
     "solution": true
    }
   },
   "outputs": [],
   "source": [
    "def punc_count(text):\n",
    "    # YOUR CODE HERE\n",
    "    valid_punctuations = ['.',',',':',';','\"','?','!','(',')','[',']']\n",
    "    i=0\n",
    "    for c in text:\n",
    "        if c in valid_punctuations:\n",
    "            i+= 1\n",
    "    return i"
   ]
  },
  {
   "cell_type": "code",
   "execution_count": null,
   "metadata": {
    "deletable": false,
    "editable": false,
    "nbgrader": {
     "checksum": "76ba03e97cdc6308f57075c0cdf0c9d4",
     "grade": true,
     "grade_id": "Test4",
     "locked": true,
     "points": 2,
     "schema_version": 1,
     "solution": false
    }
   },
   "outputs": [],
   "source": []
  },
  {
   "cell_type": "code",
   "execution_count": 6,
   "metadata": {
    "deletable": false,
    "nbgrader": {
     "checksum": "ad094b32d996f22b2a08713dcc2a3e5d",
     "grade": false,
     "grade_id": "Function5",
     "locked": false,
     "schema_version": 1,
     "solution": true
    }
   },
   "outputs": [],
   "source": [
    "def sentence_count(text):\n",
    "    # YOUR CODE HERE\n",
    "    abbreviations = ['Mr.','Mrs.','Miss.']\n",
    "    abbreviations_new = ['Mr','Mrs','Miss']\n",
    "    for i in range(len(abbreviations)):\n",
    "        text = text.replace(abbreviations[i], abbreviations_new[i])\n",
    "    sentences = text.split('.')\n",
    "    lst1 = []\n",
    "    lst2 = []\n",
    "    for i in sentences:\n",
    "        lst1 = lst1 + (i.split('?'))\n",
    "    for i in lst1:\n",
    "        lst2 = lst2 + (i.split('!'))\n",
    "    senCount = len(lst2)-1\n",
    "    return senCount"
   ]
  },
  {
   "cell_type": "code",
   "execution_count": null,
   "metadata": {
    "deletable": false,
    "editable": false,
    "nbgrader": {
     "checksum": "c1adc4536b9b30d7ebc30d0e72f88421",
     "grade": true,
     "grade_id": "Test5",
     "locked": true,
     "points": 3,
     "schema_version": 1,
     "solution": false
    }
   },
   "outputs": [],
   "source": []
  },
  {
   "cell_type": "code",
   "execution_count": 7,
   "metadata": {
    "deletable": false,
    "nbgrader": {
     "checksum": "3dfab17ca8dea8509519f65789ebcdfc",
     "grade": false,
     "grade_id": "cell-881c1f7df410c854",
     "locked": false,
     "schema_version": 1,
     "solution": true
    }
   },
   "outputs": [],
   "source": [
    "def longest_length(text):\n",
    "    # YOUR CODE HERE\n",
    "    abbreviations = ['Mr.','Mrs.','Miss.']\n",
    "    abbreviations_new = ['Mr','Mrs','Miss']\n",
    "    for i in range(len(abbreviations)):\n",
    "        text = text.replace(abbreviations[i], abbreviations_new[i])\n",
    "    sentences = text.split('.')\n",
    "    lst1 = []\n",
    "    lst2 = []\n",
    "    for i in sentences:\n",
    "        lst1 = lst1 + (i.split('?'))\n",
    "    for i in lst1:\n",
    "        lst2 = lst2 + (i.split('!'))\n",
    "    largest = 0\n",
    "    for sntc in lst2:\n",
    "        # Now use split to find number of words\n",
    "        wordCount = len(sntc.split())\n",
    "        if wordCount > largest:\n",
    "            largest = wordCount\n",
    "    return largest "
   ]
  },
  {
   "cell_type": "code",
   "execution_count": null,
   "metadata": {
    "deletable": false,
    "editable": false,
    "nbgrader": {
     "checksum": "12778705e10e145e6e1f00dcf9e5b1f0",
     "grade": true,
     "grade_id": "Test6",
     "locked": true,
     "points": 3,
     "schema_version": 1,
     "solution": false
    }
   },
   "outputs": [],
   "source": []
  },
  {
   "cell_type": "code",
   "execution_count": 8,
   "metadata": {
    "deletable": false,
    "editable": false,
    "nbgrader": {
     "checksum": "a58c03906b6df954cc6548fcfcd4c0af",
     "grade": false,
     "grade_id": "Function",
     "locked": true,
     "schema_version": 1,
     "solution": false
    }
   },
   "outputs": [],
   "source": [
    "def edit_distance(list1, list2):\n",
    "    rows = len(list1)\n",
    "    cols = len(list2)\n",
    "    dist = [[0 for x in range(cols)] for x in range(rows)]\n",
    "    for i in range(1, rows):\n",
    "        dist[i][0] = i\n",
    "    \n",
    "    for i in range(1, cols):\n",
    "        dist[0][i] = i\n",
    "        \n",
    "    for col in range(1, cols):\n",
    "        for row in range(1, rows):\n",
    "            if list1[row-1] == list2[col-1]:\n",
    "                cost = 0\n",
    "            else:\n",
    "                cost = 1\n",
    "            dist[row][col] = min(dist[row-1][col] + 1,      # deletion\n",
    "                                 dist[row][col-1] + 1,      # insertion\n",
    "                                 dist[row-1][col-1] + cost) # substitution\n",
    "    return dist[row][col]"
   ]
  },
  {
   "cell_type": "code",
   "execution_count": 9,
   "metadata": {
    "deletable": false,
    "nbgrader": {
     "checksum": "bbef59c7f11b48ef219d32802bc406cd",
     "grade": false,
     "grade_id": "Function7",
     "locked": false,
     "schema_version": 1,
     "solution": true
    }
   },
   "outputs": [],
   "source": [
    "def edit_distance_matrix(text):\n",
    "    # YOUR CODE HERE\n",
    "    abbreviations = ['Mr.','Mrs.','Miss.']\n",
    "    abbreviations_new = ['Mr','Mrs','Miss']\n",
    "    for i in range(len(abbreviations)):\n",
    "        text = text.replace(abbreviations[i], abbreviations_new[i])\n",
    "    sentences = text.split('.')\n",
    "    lst1 = []\n",
    "    lst2 = []\n",
    "    for i in sentences:\n",
    "        lst1 = lst1 + (i.split('?'))\n",
    "    for i in lst1:\n",
    "        lst2 = lst2 + (i.split('!'))\n",
    "    \n",
    "    ncols = len(lst2)-1\n",
    "    nrows = len(lst2)-1\n",
    "    matrix = [[0] * ncols for i in range(nrows)]\n",
    "    for i in range(len(lst2)-1):\n",
    "        for j in range(len(lst2)-1):\n",
    "            list1 = lst2[i].split()\n",
    "            list2 = lst2[j].split()\n",
    "            matrix[i][j] = edit_distance(list1,list2)\n",
    "    return matrix"
   ]
  },
  {
   "cell_type": "code",
   "execution_count": null,
   "metadata": {
    "deletable": false,
    "editable": false,
    "nbgrader": {
     "checksum": "0f2663945ed1a66988bbf50159fc8d9e",
     "grade": true,
     "grade_id": "Test7",
     "locked": true,
     "points": 5,
     "schema_version": 1,
     "solution": false
    }
   },
   "outputs": [],
   "source": []
  }
 ],
 "metadata": {
  "kernelspec": {
   "display_name": "Python 3",
   "language": "python",
   "name": "python3"
  },
  "language_info": {
   "codemirror_mode": {
    "name": "ipython",
    "version": 3
   },
   "file_extension": ".py",
   "mimetype": "text/x-python",
   "name": "python",
   "nbconvert_exporter": "python",
   "pygments_lexer": "ipython3",
   "version": "3.7.0"
  }
 },
 "nbformat": 4,
 "nbformat_minor": 2
}
